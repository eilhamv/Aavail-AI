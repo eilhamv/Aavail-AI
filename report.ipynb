{
 "cells": [
  {
   "cell_type": "markdown",
   "metadata": {},
   "source": [
    "## EDA"
   ]
  },
  {
   "cell_type": "code",
   "execution_count": 2,
   "metadata": {},
   "outputs": [],
   "source": [
    "import sys,os,re,pickle\n",
    "from datetime import datetime\n",
    "import numpy as np\n",
    "import pandas as pd\n",
    "import matplotlib.pyplot as plt\n",
    "from data_ingestion import fetch_data,convert_to_ts,engineer_features"
   ]
  },
  {
   "cell_type": "code",
   "execution_count": 179,
   "metadata": {},
   "outputs": [],
   "source": [
    "data_dir = os.path.join('data','cs-train')"
   ]
  },
  {
   "cell_type": "code",
   "execution_count": 92,
   "metadata": {},
   "outputs": [
    {
     "data": {
      "text/html": [
       "<div>\n",
       "<style scoped>\n",
       "    .dataframe tbody tr th:only-of-type {\n",
       "        vertical-align: middle;\n",
       "    }\n",
       "\n",
       "    .dataframe tbody tr th {\n",
       "        vertical-align: top;\n",
       "    }\n",
       "\n",
       "    .dataframe thead th {\n",
       "        text-align: right;\n",
       "    }\n",
       "</style>\n",
       "<table border=\"1\" class=\"dataframe\">\n",
       "  <thead>\n",
       "    <tr style=\"text-align: right;\">\n",
       "      <th></th>\n",
       "      <th>country</th>\n",
       "      <th>customer_id</th>\n",
       "      <th>day</th>\n",
       "      <th>invoice</th>\n",
       "      <th>month</th>\n",
       "      <th>price</th>\n",
       "      <th>stream_id</th>\n",
       "      <th>times_viewed</th>\n",
       "      <th>year</th>\n",
       "      <th>invoice_date</th>\n",
       "    </tr>\n",
       "  </thead>\n",
       "  <tbody>\n",
       "    <tr>\n",
       "      <th>0</th>\n",
       "      <td>United Kingdom</td>\n",
       "      <td>13085.0</td>\n",
       "      <td>28</td>\n",
       "      <td>489434</td>\n",
       "      <td>11</td>\n",
       "      <td>6.95</td>\n",
       "      <td>85048</td>\n",
       "      <td>12</td>\n",
       "      <td>2017</td>\n",
       "      <td>2017-11-28</td>\n",
       "    </tr>\n",
       "    <tr>\n",
       "      <th>1</th>\n",
       "      <td>United Kingdom</td>\n",
       "      <td>13085.0</td>\n",
       "      <td>28</td>\n",
       "      <td>489434</td>\n",
       "      <td>11</td>\n",
       "      <td>6.75</td>\n",
       "      <td>79323W</td>\n",
       "      <td>12</td>\n",
       "      <td>2017</td>\n",
       "      <td>2017-11-28</td>\n",
       "    </tr>\n",
       "    <tr>\n",
       "      <th>2</th>\n",
       "      <td>United Kingdom</td>\n",
       "      <td>13085.0</td>\n",
       "      <td>28</td>\n",
       "      <td>489434</td>\n",
       "      <td>11</td>\n",
       "      <td>2.10</td>\n",
       "      <td>22041</td>\n",
       "      <td>21</td>\n",
       "      <td>2017</td>\n",
       "      <td>2017-11-28</td>\n",
       "    </tr>\n",
       "  </tbody>\n",
       "</table>\n",
       "</div>"
      ],
      "text/plain": [
       "          country  customer_id  day invoice  month  price stream_id  \\\n",
       "0  United Kingdom      13085.0   28  489434     11   6.95     85048   \n",
       "1  United Kingdom      13085.0   28  489434     11   6.75    79323W   \n",
       "2  United Kingdom      13085.0   28  489434     11   2.10     22041   \n",
       "\n",
       "   times_viewed  year invoice_date  \n",
       "0            12  2017   2017-11-28  \n",
       "1            12  2017   2017-11-28  \n",
       "2            21  2017   2017-11-28  "
      ]
     },
     "execution_count": 92,
     "metadata": {},
     "output_type": "execute_result"
    }
   ],
   "source": [
    "df = fetch_data(data_dir)\n",
    "df.head(3)"
   ]
  },
  {
   "cell_type": "code",
   "execution_count": 93,
   "metadata": {},
   "outputs": [
    {
     "data": {
      "text/html": [
       "<div>\n",
       "<style scoped>\n",
       "    .dataframe tbody tr th:only-of-type {\n",
       "        vertical-align: middle;\n",
       "    }\n",
       "\n",
       "    .dataframe tbody tr th {\n",
       "        vertical-align: top;\n",
       "    }\n",
       "\n",
       "    .dataframe thead th {\n",
       "        text-align: right;\n",
       "    }\n",
       "</style>\n",
       "<table border=\"1\" class=\"dataframe\">\n",
       "  <thead>\n",
       "    <tr style=\"text-align: right;\">\n",
       "      <th></th>\n",
       "      <th>customer_id</th>\n",
       "      <th>day</th>\n",
       "      <th>month</th>\n",
       "      <th>price</th>\n",
       "      <th>times_viewed</th>\n",
       "      <th>year</th>\n",
       "    </tr>\n",
       "  </thead>\n",
       "  <tbody>\n",
       "    <tr>\n",
       "      <th>count</th>\n",
       "      <td>625249.000000</td>\n",
       "      <td>815011.000000</td>\n",
       "      <td>815011.000000</td>\n",
       "      <td>815011.000000</td>\n",
       "      <td>815011.000000</td>\n",
       "      <td>815011.000000</td>\n",
       "    </tr>\n",
       "    <tr>\n",
       "      <th>mean</th>\n",
       "      <td>15333.415068</td>\n",
       "      <td>15.064819</td>\n",
       "      <td>6.592718</td>\n",
       "      <td>4.802631</td>\n",
       "      <td>5.231106</td>\n",
       "      <td>2018.247654</td>\n",
       "    </tr>\n",
       "    <tr>\n",
       "      <th>std</th>\n",
       "      <td>1698.360788</td>\n",
       "      <td>8.788845</td>\n",
       "      <td>3.598781</td>\n",
       "      <td>135.058707</td>\n",
       "      <td>5.109982</td>\n",
       "      <td>0.545261</td>\n",
       "    </tr>\n",
       "    <tr>\n",
       "      <th>min</th>\n",
       "      <td>12346.000000</td>\n",
       "      <td>1.000000</td>\n",
       "      <td>1.000000</td>\n",
       "      <td>-53594.360000</td>\n",
       "      <td>0.000000</td>\n",
       "      <td>2017.000000</td>\n",
       "    </tr>\n",
       "    <tr>\n",
       "      <th>25%</th>\n",
       "      <td>13956.000000</td>\n",
       "      <td>7.000000</td>\n",
       "      <td>3.000000</td>\n",
       "      <td>1.250000</td>\n",
       "      <td>1.000000</td>\n",
       "      <td>2018.000000</td>\n",
       "    </tr>\n",
       "    <tr>\n",
       "      <th>50%</th>\n",
       "      <td>15279.000000</td>\n",
       "      <td>15.000000</td>\n",
       "      <td>6.000000</td>\n",
       "      <td>2.100000</td>\n",
       "      <td>3.000000</td>\n",
       "      <td>2018.000000</td>\n",
       "    </tr>\n",
       "    <tr>\n",
       "      <th>75%</th>\n",
       "      <td>16813.000000</td>\n",
       "      <td>23.000000</td>\n",
       "      <td>10.000000</td>\n",
       "      <td>4.210000</td>\n",
       "      <td>8.000000</td>\n",
       "      <td>2019.000000</td>\n",
       "    </tr>\n",
       "    <tr>\n",
       "      <th>max</th>\n",
       "      <td>18287.000000</td>\n",
       "      <td>31.000000</td>\n",
       "      <td>12.000000</td>\n",
       "      <td>38970.000000</td>\n",
       "      <td>24.000000</td>\n",
       "      <td>2019.000000</td>\n",
       "    </tr>\n",
       "  </tbody>\n",
       "</table>\n",
       "</div>"
      ],
      "text/plain": [
       "         customer_id            day          month          price  \\\n",
       "count  625249.000000  815011.000000  815011.000000  815011.000000   \n",
       "mean    15333.415068      15.064819       6.592718       4.802631   \n",
       "std      1698.360788       8.788845       3.598781     135.058707   \n",
       "min     12346.000000       1.000000       1.000000  -53594.360000   \n",
       "25%     13956.000000       7.000000       3.000000       1.250000   \n",
       "50%     15279.000000      15.000000       6.000000       2.100000   \n",
       "75%     16813.000000      23.000000      10.000000       4.210000   \n",
       "max     18287.000000      31.000000      12.000000   38970.000000   \n",
       "\n",
       "        times_viewed           year  \n",
       "count  815011.000000  815011.000000  \n",
       "mean        5.231106    2018.247654  \n",
       "std         5.109982       0.545261  \n",
       "min         0.000000    2017.000000  \n",
       "25%         1.000000    2018.000000  \n",
       "50%         3.000000    2018.000000  \n",
       "75%         8.000000    2019.000000  \n",
       "max        24.000000    2019.000000  "
      ]
     },
     "execution_count": 93,
     "metadata": {},
     "output_type": "execute_result"
    }
   ],
   "source": [
    "# There are some bad values, particularly the price column & customer_id\n",
    "df.describe()"
   ]
  },
  {
   "cell_type": "code",
   "execution_count": 94,
   "metadata": {},
   "outputs": [
    {
     "name": "stdout",
     "output_type": "stream",
     "text": [
      "List of top countries: ['United Kingdom', 'EIRE', 'Germany', 'France', 'Norway', 'Spain', 'Hong Kong', 'Portugal', 'Singapore', 'Netherlands']\n"
     ]
    }
   ],
   "source": [
    "# Aggregate raw data & show top countries with highest revenue  \n",
    "top_countries = df.groupby('country').sum().sort_values(by='price',ascending = False).head(10)\n",
    "print(f'List of top countries: {list(top_countries.index)}')"
   ]
  },
  {
   "cell_type": "markdown",
   "metadata": {},
   "source": [
    "In terms of revenue & view, the UK market is very dominate"
   ]
  },
  {
   "cell_type": "code",
   "execution_count": 95,
   "metadata": {},
   "outputs": [
    {
     "data": {
      "text/html": [
       "<div>\n",
       "<style scoped>\n",
       "    .dataframe tbody tr th:only-of-type {\n",
       "        vertical-align: middle;\n",
       "    }\n",
       "\n",
       "    .dataframe tbody tr th {\n",
       "        vertical-align: top;\n",
       "    }\n",
       "\n",
       "    .dataframe thead th {\n",
       "        text-align: right;\n",
       "    }\n",
       "</style>\n",
       "<table border=\"1\" class=\"dataframe\">\n",
       "  <thead>\n",
       "    <tr style=\"text-align: right;\">\n",
       "      <th>country</th>\n",
       "      <th>United Kingdom</th>\n",
       "      <th>EIRE</th>\n",
       "      <th>Germany</th>\n",
       "      <th>France</th>\n",
       "      <th>Norway</th>\n",
       "      <th>Spain</th>\n",
       "      <th>Hong Kong</th>\n",
       "      <th>Portugal</th>\n",
       "      <th>Singapore</th>\n",
       "      <th>Netherlands</th>\n",
       "    </tr>\n",
       "  </thead>\n",
       "  <tbody>\n",
       "    <tr>\n",
       "      <th>total_revenue</th>\n",
       "      <td>3.521514e+06</td>\n",
       "      <td>107069.21</td>\n",
       "      <td>49271.821</td>\n",
       "      <td>40565.14</td>\n",
       "      <td>38494.75</td>\n",
       "      <td>16040.99</td>\n",
       "      <td>14452.57</td>\n",
       "      <td>13528.67</td>\n",
       "      <td>13175.92</td>\n",
       "      <td>12322.8</td>\n",
       "    </tr>\n",
       "    <tr>\n",
       "      <th>total_view</th>\n",
       "      <td>3.725703e+06</td>\n",
       "      <td>111636.00</td>\n",
       "      <td>112618.000</td>\n",
       "      <td>83124.00</td>\n",
       "      <td>7881.00</td>\n",
       "      <td>19573.00</td>\n",
       "      <td>2635.00</td>\n",
       "      <td>14195.00</td>\n",
       "      <td>3042.00</td>\n",
       "      <td>39619.0</td>\n",
       "    </tr>\n",
       "  </tbody>\n",
       "</table>\n",
       "</div>"
      ],
      "text/plain": [
       "country        United Kingdom       EIRE     Germany    France    Norway  \\\n",
       "total_revenue    3.521514e+06  107069.21   49271.821  40565.14  38494.75   \n",
       "total_view       3.725703e+06  111636.00  112618.000  83124.00   7881.00   \n",
       "\n",
       "country           Spain  Hong Kong  Portugal  Singapore  Netherlands  \n",
       "total_revenue  16040.99   14452.57  13528.67   13175.92      12322.8  \n",
       "total_view     19573.00    2635.00  14195.00    3042.00      39619.0  "
      ]
     },
     "execution_count": 95,
     "metadata": {},
     "output_type": "execute_result"
    }
   ],
   "source": [
    "top_countries[['price','times_viewed']].\\\n",
    "rename(columns={'price':'total_revenue','times_viewed':'total_view'}).T"
   ]
  },
  {
   "cell_type": "code",
   "execution_count": 97,
   "metadata": {},
   "outputs": [
    {
     "data": {
      "image/png": "[encoded data removed]",
      "text/plain": [
       "<Figure size 864x288 with 1 Axes>"
      ]
     },
     "metadata": {
      "needs_background": "light"
     },
     "output_type": "display_data"
    }
   ],
   "source": [
    "plt.figure(figsize=(12,4))\n",
    "df.invoice_date.hist();\n",
    "plt.title('Distribution of date: the most popular dates');"
   ]
  },
  {
   "cell_type": "code",
   "execution_count": 98,
   "metadata": {},
   "outputs": [
    {
     "data": {
      "image/png": "[encoded data removed]",
      "text/plain": [
       "<Figure size 864x288 with 1 Axes>"
      ]
     },
     "metadata": {
      "needs_background": "light"
     },
     "output_type": "display_data"
    }
   ],
   "source": [
    "plt.figure(figsize=(12,4))\n",
    "df.times_viewed.hist()\n",
    "plt.title('Distribution of time viewed');"
   ]
  },
  {
   "cell_type": "markdown",
   "metadata": {},
   "source": [
    "## Building Model & Flask app API"
   ]
  },
  {
   "cell_type": "markdown",
   "metadata": {},
   "source": [
    "First, we decided to use supervised learning models to predict the revenue. We will be predicting the total revenue of the next 30 days as a single prediction. To capture potential seasonality, we added previous revenue, invoice & views as predictors. The corresponding `X` & `y` are prepared in `engineer_features()`. Below we have a quick look at what the `X` & `y` looks like, using the UK market as an example."
   ]
  },
  {
   "cell_type": "code",
   "execution_count": 12,
   "metadata": {},
   "outputs": [
    {
     "data": {
      "text/html": [
       "<div>\n",
       "<style scoped>\n",
       "    .dataframe tbody tr th:only-of-type {\n",
       "        vertical-align: middle;\n",
       "    }\n",
       "\n",
       "    .dataframe tbody tr th {\n",
       "        vertical-align: top;\n",
       "    }\n",
       "\n",
       "    .dataframe thead th {\n",
       "        text-align: right;\n",
       "    }\n",
       "</style>\n",
       "<table border=\"1\" class=\"dataframe\">\n",
       "  <thead>\n",
       "    <tr style=\"text-align: right;\">\n",
       "      <th></th>\n",
       "      <th>previous_7</th>\n",
       "      <th>previous_14</th>\n",
       "      <th>previous_28</th>\n",
       "      <th>previous_70</th>\n",
       "      <th>previous_year</th>\n",
       "      <th>recent_invoices</th>\n",
       "      <th>recent_views</th>\n",
       "      <th>y</th>\n",
       "      <th>date</th>\n",
       "    </tr>\n",
       "  </thead>\n",
       "  <tbody>\n",
       "    <tr>\n",
       "      <th>0</th>\n",
       "      <td>13281.12</td>\n",
       "      <td>13281.12</td>\n",
       "      <td>13281.12</td>\n",
       "      <td>13281.12</td>\n",
       "      <td>0.0</td>\n",
       "      <td>5.50000</td>\n",
       "      <td>461.500000</td>\n",
       "      <td>173959.95</td>\n",
       "      <td>2017-11-29</td>\n",
       "    </tr>\n",
       "    <tr>\n",
       "      <th>1</th>\n",
       "      <td>26504.09</td>\n",
       "      <td>26504.09</td>\n",
       "      <td>26504.09</td>\n",
       "      <td>26504.09</td>\n",
       "      <td>0.0</td>\n",
       "      <td>9.62069</td>\n",
       "      <td>916.275862</td>\n",
       "      <td>160736.98</td>\n",
       "      <td>2017-11-30</td>\n",
       "    </tr>\n",
       "    <tr>\n",
       "      <th>2</th>\n",
       "      <td>39445.59</td>\n",
       "      <td>39445.59</td>\n",
       "      <td>39445.59</td>\n",
       "      <td>39445.59</td>\n",
       "      <td>0.0</td>\n",
       "      <td>14.10000</td>\n",
       "      <td>1393.833333</td>\n",
       "      <td>147795.48</td>\n",
       "      <td>2017-12-01</td>\n",
       "    </tr>\n",
       "  </tbody>\n",
       "</table>\n",
       "</div>"
      ],
      "text/plain": [
       "   previous_7  previous_14  previous_28  previous_70  previous_year  \\\n",
       "0    13281.12     13281.12     13281.12     13281.12            0.0   \n",
       "1    26504.09     26504.09     26504.09     26504.09            0.0   \n",
       "2    39445.59     39445.59     39445.59     39445.59            0.0   \n",
       "\n",
       "   recent_invoices  recent_views          y       date  \n",
       "0          5.50000    461.500000  173959.95 2017-11-29  \n",
       "1          9.62069    916.275862  160736.98 2017-11-30  \n",
       "2         14.10000   1393.833333  147795.48 2017-12-01  "
      ]
     },
     "execution_count": 12,
     "metadata": {},
     "output_type": "execute_result"
    }
   ],
   "source": [
    "country = 'United Kingdom'\n",
    "\n",
    "df_uk = convert_to_ts(df,country)\n",
    "X,y,dates = engineer_features(df_uk)\n",
    "\n",
    "df_ts = X.copy()\n",
    "df_ts['y'] = y\n",
    "df_ts['date'] = pd.to_datetime(dates)\n",
    "df_ts.head(3)"
   ]
  },
  {
   "cell_type": "code",
   "execution_count": 13,
   "metadata": {},
   "outputs": [
    {
     "data": {
      "image/png": "[encoded data removed]",
      "text/plain": [
       "<Figure size 864x288 with 1 Axes>"
      ]
     },
     "metadata": {
      "needs_background": "light"
     },
     "output_type": "display_data"
    }
   ],
   "source": [
    "plt.figure(figsize=(12,4))\n",
    "plt.title(f'Revenue over time in {country}')\n",
    "plt.plot(df_ts.date,df_ts.y);"
   ]
  },
  {
   "cell_type": "code",
   "execution_count": 14,
   "metadata": {},
   "outputs": [
    {
     "data": {
      "text/html": [
       "<style  type=\"text/css\" >\n",
       "    #T_4f055018_aef8_11ea_88d6_00155d8cb8e6row0_col0 {\n",
       "            background-color:  #023858;\n",
       "            color:  #f1f1f1;\n",
       "        }    #T_4f055018_aef8_11ea_88d6_00155d8cb8e6row0_col1 {\n",
       "            background-color:  #056caa;\n",
       "            color:  #f1f1f1;\n",
       "        }    #T_4f055018_aef8_11ea_88d6_00155d8cb8e6row0_col2 {\n",
       "            background-color:  #88b1d4;\n",
       "            color:  #000000;\n",
       "        }    #T_4f055018_aef8_11ea_88d6_00155d8cb8e6row0_col3 {\n",
       "            background-color:  #dcdaeb;\n",
       "            color:  #000000;\n",
       "        }    #T_4f055018_aef8_11ea_88d6_00155d8cb8e6row0_col4 {\n",
       "            background-color:  #ede8f3;\n",
       "            color:  #000000;\n",
       "        }    #T_4f055018_aef8_11ea_88d6_00155d8cb8e6row0_col5 {\n",
       "            background-color:  #91b5d6;\n",
       "            color:  #000000;\n",
       "        }    #T_4f055018_aef8_11ea_88d6_00155d8cb8e6row0_col6 {\n",
       "            background-color:  #8cb3d5;\n",
       "            color:  #000000;\n",
       "        }    #T_4f055018_aef8_11ea_88d6_00155d8cb8e6row0_col7 {\n",
       "            background-color:  #f8f1f8;\n",
       "            color:  #000000;\n",
       "        }    #T_4f055018_aef8_11ea_88d6_00155d8cb8e6row1_col0 {\n",
       "            background-color:  #056ba9;\n",
       "            color:  #f1f1f1;\n",
       "        }    #T_4f055018_aef8_11ea_88d6_00155d8cb8e6row1_col1 {\n",
       "            background-color:  #023858;\n",
       "            color:  #f1f1f1;\n",
       "        }    #T_4f055018_aef8_11ea_88d6_00155d8cb8e6row1_col2 {\n",
       "            background-color:  #1379b5;\n",
       "            color:  #f1f1f1;\n",
       "        }    #T_4f055018_aef8_11ea_88d6_00155d8cb8e6row1_col3 {\n",
       "            background-color:  #afc1dd;\n",
       "            color:  #000000;\n",
       "        }    #T_4f055018_aef8_11ea_88d6_00155d8cb8e6row1_col4 {\n",
       "            background-color:  #ebe6f2;\n",
       "            color:  #000000;\n",
       "        }    #T_4f055018_aef8_11ea_88d6_00155d8cb8e6row1_col5 {\n",
       "            background-color:  #549cc7;\n",
       "            color:  #000000;\n",
       "        }    #T_4f055018_aef8_11ea_88d6_00155d8cb8e6row1_col6 {\n",
       "            background-color:  #2d8abd;\n",
       "            color:  #000000;\n",
       "        }    #T_4f055018_aef8_11ea_88d6_00155d8cb8e6row1_col7 {\n",
       "            background-color:  #fdf5fa;\n",
       "            color:  #000000;\n",
       "        }    #T_4f055018_aef8_11ea_88d6_00155d8cb8e6row2_col0 {\n",
       "            background-color:  #79abd0;\n",
       "            color:  #000000;\n",
       "        }    #T_4f055018_aef8_11ea_88d6_00155d8cb8e6row2_col1 {\n",
       "            background-color:  #0f76b3;\n",
       "            color:  #f1f1f1;\n",
       "        }    #T_4f055018_aef8_11ea_88d6_00155d8cb8e6row2_col2 {\n",
       "            background-color:  #023858;\n",
       "            color:  #f1f1f1;\n",
       "        }    #T_4f055018_aef8_11ea_88d6_00155d8cb8e6row2_col3 {\n",
       "            background-color:  #4897c4;\n",
       "            color:  #000000;\n",
       "        }    #T_4f055018_aef8_11ea_88d6_00155d8cb8e6row2_col4 {\n",
       "            background-color:  #e1dfed;\n",
       "            color:  #000000;\n",
       "        }    #T_4f055018_aef8_11ea_88d6_00155d8cb8e6row2_col5 {\n",
       "            background-color:  #2a88bc;\n",
       "            color:  #000000;\n",
       "        }    #T_4f055018_aef8_11ea_88d6_00155d8cb8e6row2_col6 {\n",
       "            background-color:  #04629a;\n",
       "            color:  #f1f1f1;\n",
       "        }    #T_4f055018_aef8_11ea_88d6_00155d8cb8e6row2_col7 {\n",
       "            background-color:  #fff7fb;\n",
       "            color:  #000000;\n",
       "        }    #T_4f055018_aef8_11ea_88d6_00155d8cb8e6row3_col0 {\n",
       "            background-color:  #c2cbe2;\n",
       "            color:  #000000;\n",
       "        }    #T_4f055018_aef8_11ea_88d6_00155d8cb8e6row3_col1 {\n",
       "            background-color:  #96b6d7;\n",
       "            color:  #000000;\n",
       "        }    #T_4f055018_aef8_11ea_88d6_00155d8cb8e6row3_col2 {\n",
       "            background-color:  #3d93c2;\n",
       "            color:  #000000;\n",
       "        }    #T_4f055018_aef8_11ea_88d6_00155d8cb8e6row3_col3 {\n",
       "            background-color:  #023858;\n",
       "            color:  #f1f1f1;\n",
       "        }    #T_4f055018_aef8_11ea_88d6_00155d8cb8e6row3_col4 {\n",
       "            background-color:  #97b7d7;\n",
       "            color:  #000000;\n",
       "        }    #T_4f055018_aef8_11ea_88d6_00155d8cb8e6row3_col5 {\n",
       "            background-color:  #9ab8d8;\n",
       "            color:  #000000;\n",
       "        }    #T_4f055018_aef8_11ea_88d6_00155d8cb8e6row3_col6 {\n",
       "            background-color:  #5c9fc9;\n",
       "            color:  #000000;\n",
       "        }    #T_4f055018_aef8_11ea_88d6_00155d8cb8e6row3_col7 {\n",
       "            background-color:  #f8f1f8;\n",
       "            color:  #000000;\n",
       "        }    #T_4f055018_aef8_11ea_88d6_00155d8cb8e6row4_col0 {\n",
       "            background-color:  #fff7fb;\n",
       "            color:  #000000;\n",
       "        }    #T_4f055018_aef8_11ea_88d6_00155d8cb8e6row4_col1 {\n",
       "            background-color:  #fff7fb;\n",
       "            color:  #000000;\n",
       "        }    #T_4f055018_aef8_11ea_88d6_00155d8cb8e6row4_col2 {\n",
       "            background-color:  #fff7fb;\n",
       "            color:  #000000;\n",
       "        }    #T_4f055018_aef8_11ea_88d6_00155d8cb8e6row4_col3 {\n",
       "            background-color:  #d2d2e7;\n",
       "            color:  #000000;\n",
       "        }    #T_4f055018_aef8_11ea_88d6_00155d8cb8e6row4_col4 {\n",
       "            background-color:  #023858;\n",
       "            color:  #f1f1f1;\n",
       "        }    #T_4f055018_aef8_11ea_88d6_00155d8cb8e6row4_col5 {\n",
       "            background-color:  #fff7fb;\n",
       "            color:  #000000;\n",
       "        }    #T_4f055018_aef8_11ea_88d6_00155d8cb8e6row4_col6 {\n",
       "            background-color:  #fff7fb;\n",
       "            color:  #000000;\n",
       "        }    #T_4f055018_aef8_11ea_88d6_00155d8cb8e6row4_col7 {\n",
       "            background-color:  #fef6fa;\n",
       "            color:  #000000;\n",
       "        }    #T_4f055018_aef8_11ea_88d6_00155d8cb8e6row5_col0 {\n",
       "            background-color:  #afc1dd;\n",
       "            color:  #000000;\n",
       "        }    #T_4f055018_aef8_11ea_88d6_00155d8cb8e6row5_col1 {\n",
       "            background-color:  #75a9cf;\n",
       "            color:  #000000;\n",
       "        }    #T_4f055018_aef8_11ea_88d6_00155d8cb8e6row5_col2 {\n",
       "            background-color:  #4a98c5;\n",
       "            color:  #000000;\n",
       "        }    #T_4f055018_aef8_11ea_88d6_00155d8cb8e6row5_col3 {\n",
       "            background-color:  #d4d4e8;\n",
       "            color:  #000000;\n",
       "        }    #T_4f055018_aef8_11ea_88d6_00155d8cb8e6row5_col4 {\n",
       "            background-color:  #fff7fb;\n",
       "            color:  #000000;\n",
       "        }    #T_4f055018_aef8_11ea_88d6_00155d8cb8e6row5_col5 {\n",
       "            background-color:  #023858;\n",
       "            color:  #f1f1f1;\n",
       "        }    #T_4f055018_aef8_11ea_88d6_00155d8cb8e6row5_col6 {\n",
       "            background-color:  #045382;\n",
       "            color:  #f1f1f1;\n",
       "        }    #T_4f055018_aef8_11ea_88d6_00155d8cb8e6row5_col7 {\n",
       "            background-color:  #75a9cf;\n",
       "            color:  #000000;\n",
       "        }    #T_4f055018_aef8_11ea_88d6_00155d8cb8e6row6_col0 {\n",
       "            background-color:  #84b0d3;\n",
       "            color:  #000000;\n",
       "        }    #T_4f055018_aef8_11ea_88d6_00155d8cb8e6row6_col1 {\n",
       "            background-color:  #2a88bc;\n",
       "            color:  #000000;\n",
       "        }    #T_4f055018_aef8_11ea_88d6_00155d8cb8e6row6_col2 {\n",
       "            background-color:  #04639b;\n",
       "            color:  #f1f1f1;\n",
       "        }    #T_4f055018_aef8_11ea_88d6_00155d8cb8e6row6_col3 {\n",
       "            background-color:  #6fa7ce;\n",
       "            color:  #000000;\n",
       "        }    #T_4f055018_aef8_11ea_88d6_00155d8cb8e6row6_col4 {\n",
       "            background-color:  #e6e2ef;\n",
       "            color:  #000000;\n",
       "        }    #T_4f055018_aef8_11ea_88d6_00155d8cb8e6row6_col5 {\n",
       "            background-color:  #034e7b;\n",
       "            color:  #f1f1f1;\n",
       "        }    #T_4f055018_aef8_11ea_88d6_00155d8cb8e6row6_col6 {\n",
       "            background-color:  #023858;\n",
       "            color:  #f1f1f1;\n",
       "        }    #T_4f055018_aef8_11ea_88d6_00155d8cb8e6row6_col7 {\n",
       "            background-color:  #9ab8d8;\n",
       "            color:  #000000;\n",
       "        }    #T_4f055018_aef8_11ea_88d6_00155d8cb8e6row7_col0 {\n",
       "            background-color:  #efe9f3;\n",
       "            color:  #000000;\n",
       "        }    #T_4f055018_aef8_11ea_88d6_00155d8cb8e6row7_col1 {\n",
       "            background-color:  #f5eef6;\n",
       "            color:  #000000;\n",
       "        }    #T_4f055018_aef8_11ea_88d6_00155d8cb8e6row7_col2 {\n",
       "            background-color:  #fef6fb;\n",
       "            color:  #000000;\n",
       "        }    #T_4f055018_aef8_11ea_88d6_00155d8cb8e6row7_col3 {\n",
       "            background-color:  #fff7fb;\n",
       "            color:  #000000;\n",
       "        }    #T_4f055018_aef8_11ea_88d6_00155d8cb8e6row7_col4 {\n",
       "            background-color:  #dfddec;\n",
       "            color:  #000000;\n",
       "        }    #T_4f055018_aef8_11ea_88d6_00155d8cb8e6row7_col5 {\n",
       "            background-color:  #4897c4;\n",
       "            color:  #000000;\n",
       "        }    #T_4f055018_aef8_11ea_88d6_00155d8cb8e6row7_col6 {\n",
       "            background-color:  #93b5d6;\n",
       "            color:  #000000;\n",
       "        }    #T_4f055018_aef8_11ea_88d6_00155d8cb8e6row7_col7 {\n",
       "            background-color:  #023858;\n",
       "            color:  #f1f1f1;\n",
       "        }</style><table id=\"T_4f055018_aef8_11ea_88d6_00155d8cb8e6\" ><caption>Heat map</caption><thead>    <tr>        <th class=\"blank level0\" ></th>        <th class=\"col_heading level0 col0\" >previous_7</th>        <th class=\"col_heading level0 col1\" >previous_14</th>        <th class=\"col_heading level0 col2\" >previous_28</th>        <th class=\"col_heading level0 col3\" >previous_70</th>        <th class=\"col_heading level0 col4\" >previous_year</th>        <th class=\"col_heading level0 col5\" >recent_invoices</th>        <th class=\"col_heading level0 col6\" >recent_views</th>        <th class=\"col_heading level0 col7\" >y</th>    </tr></thead><tbody>\n",
       "                <tr>\n",
       "                        <th id=\"T_4f055018_aef8_11ea_88d6_00155d8cb8e6level0_row0\" class=\"row_heading level0 row0\" >previous_7</th>\n",
       "                        <td id=\"T_4f055018_aef8_11ea_88d6_00155d8cb8e6row0_col0\" class=\"data row0 col0\" >1.000000</td>\n",
       "                        <td id=\"T_4f055018_aef8_11ea_88d6_00155d8cb8e6row0_col1\" class=\"data row0 col1\" >0.794352</td>\n",
       "                        <td id=\"T_4f055018_aef8_11ea_88d6_00155d8cb8e6row0_col2\" class=\"data row0 col2\" >0.528782</td>\n",
       "                        <td id=\"T_4f055018_aef8_11ea_88d6_00155d8cb8e6row0_col3\" class=\"data row0 col3\" >0.349225</td>\n",
       "                        <td id=\"T_4f055018_aef8_11ea_88d6_00155d8cb8e6row0_col4\" class=\"data row0 col4\" >0.083892</td>\n",
       "                        <td id=\"T_4f055018_aef8_11ea_88d6_00155d8cb8e6row0_col5\" class=\"data row0 col5\" >0.404959</td>\n",
       "                        <td id=\"T_4f055018_aef8_11ea_88d6_00155d8cb8e6row0_col6\" class=\"data row0 col6\" >0.505290</td>\n",
       "                        <td id=\"T_4f055018_aef8_11ea_88d6_00155d8cb8e6row0_col7\" class=\"data row0 col7\" >0.182032</td>\n",
       "            </tr>\n",
       "            <tr>\n",
       "                        <th id=\"T_4f055018_aef8_11ea_88d6_00155d8cb8e6level0_row1\" class=\"row_heading level0 row1\" >previous_14</th>\n",
       "                        <td id=\"T_4f055018_aef8_11ea_88d6_00155d8cb8e6row1_col0\" class=\"data row1 col0\" >0.794352</td>\n",
       "                        <td id=\"T_4f055018_aef8_11ea_88d6_00155d8cb8e6row1_col1\" class=\"data row1 col1\" >1.000000</td>\n",
       "                        <td id=\"T_4f055018_aef8_11ea_88d6_00155d8cb8e6row1_col2\" class=\"data row1 col2\" >0.751633</td>\n",
       "                        <td id=\"T_4f055018_aef8_11ea_88d6_00155d8cb8e6row1_col3\" class=\"data row1 col3\" >0.473383</td>\n",
       "                        <td id=\"T_4f055018_aef8_11ea_88d6_00155d8cb8e6row1_col4\" class=\"data row1 col4\" >0.095394</td>\n",
       "                        <td id=\"T_4f055018_aef8_11ea_88d6_00155d8cb8e6row1_col5\" class=\"data row1 col5\" >0.545932</td>\n",
       "                        <td id=\"T_4f055018_aef8_11ea_88d6_00155d8cb8e6row1_col6\" class=\"data row1 col6\" >0.688107</td>\n",
       "                        <td id=\"T_4f055018_aef8_11ea_88d6_00155d8cb8e6row1_col7\" class=\"data row1 col7\" >0.158251</td>\n",
       "            </tr>\n",
       "            <tr>\n",
       "                        <th id=\"T_4f055018_aef8_11ea_88d6_00155d8cb8e6level0_row2\" class=\"row_heading level0 row2\" >previous_28</th>\n",
       "                        <td id=\"T_4f055018_aef8_11ea_88d6_00155d8cb8e6row2_col0\" class=\"data row2 col0\" >0.528782</td>\n",
       "                        <td id=\"T_4f055018_aef8_11ea_88d6_00155d8cb8e6row2_col1\" class=\"data row2 col1\" >0.751633</td>\n",
       "                        <td id=\"T_4f055018_aef8_11ea_88d6_00155d8cb8e6row2_col2\" class=\"data row2 col2\" >1.000000</td>\n",
       "                        <td id=\"T_4f055018_aef8_11ea_88d6_00155d8cb8e6row2_col3\" class=\"data row2 col3\" >0.665345</td>\n",
       "                        <td id=\"T_4f055018_aef8_11ea_88d6_00155d8cb8e6row2_col4\" class=\"data row2 col4\" >0.139064</td>\n",
       "                        <td id=\"T_4f055018_aef8_11ea_88d6_00155d8cb8e6row2_col5\" class=\"data row2 col5\" >0.640910</td>\n",
       "                        <td id=\"T_4f055018_aef8_11ea_88d6_00155d8cb8e6row2_col6\" class=\"data row2 col6\" >0.846793</td>\n",
       "                        <td id=\"T_4f055018_aef8_11ea_88d6_00155d8cb8e6row2_col7\" class=\"data row2 col7\" >0.145133</td>\n",
       "            </tr>\n",
       "            <tr>\n",
       "                        <th id=\"T_4f055018_aef8_11ea_88d6_00155d8cb8e6level0_row3\" class=\"row_heading level0 row3\" >previous_70</th>\n",
       "                        <td id=\"T_4f055018_aef8_11ea_88d6_00155d8cb8e6row3_col0\" class=\"data row3 col0\" >0.349225</td>\n",
       "                        <td id=\"T_4f055018_aef8_11ea_88d6_00155d8cb8e6row3_col1\" class=\"data row3 col1\" >0.473383</td>\n",
       "                        <td id=\"T_4f055018_aef8_11ea_88d6_00155d8cb8e6row3_col2\" class=\"data row3 col2\" >0.665345</td>\n",
       "                        <td id=\"T_4f055018_aef8_11ea_88d6_00155d8cb8e6row3_col3\" class=\"data row3 col3\" >1.000000</td>\n",
       "                        <td id=\"T_4f055018_aef8_11ea_88d6_00155d8cb8e6row3_col4\" class=\"data row3 col4\" >0.386260</td>\n",
       "                        <td id=\"T_4f055018_aef8_11ea_88d6_00155d8cb8e6row3_col5\" class=\"data row3 col5\" >0.377575</td>\n",
       "                        <td id=\"T_4f055018_aef8_11ea_88d6_00155d8cb8e6row3_col6\" class=\"data row3 col6\" >0.602048</td>\n",
       "                        <td id=\"T_4f055018_aef8_11ea_88d6_00155d8cb8e6row3_col7\" class=\"data row3 col7\" >0.188104</td>\n",
       "            </tr>\n",
       "            <tr>\n",
       "                        <th id=\"T_4f055018_aef8_11ea_88d6_00155d8cb8e6level0_row4\" class=\"row_heading level0 row4\" >previous_year</th>\n",
       "                        <td id=\"T_4f055018_aef8_11ea_88d6_00155d8cb8e6row4_col0\" class=\"data row4 col0\" >0.083892</td>\n",
       "                        <td id=\"T_4f055018_aef8_11ea_88d6_00155d8cb8e6row4_col1\" class=\"data row4 col1\" >0.095394</td>\n",
       "                        <td id=\"T_4f055018_aef8_11ea_88d6_00155d8cb8e6row4_col2\" class=\"data row4 col2\" >0.139064</td>\n",
       "                        <td id=\"T_4f055018_aef8_11ea_88d6_00155d8cb8e6row4_col3\" class=\"data row4 col3\" >0.386260</td>\n",
       "                        <td id=\"T_4f055018_aef8_11ea_88d6_00155d8cb8e6row4_col4\" class=\"data row4 col4\" >1.000000</td>\n",
       "                        <td id=\"T_4f055018_aef8_11ea_88d6_00155d8cb8e6row4_col5\" class=\"data row4 col5\" >-0.042110</td>\n",
       "                        <td id=\"T_4f055018_aef8_11ea_88d6_00155d8cb8e6row4_col6\" class=\"data row4 col6\" >0.120163</td>\n",
       "                        <td id=\"T_4f055018_aef8_11ea_88d6_00155d8cb8e6row4_col7\" class=\"data row4 col7\" >0.152978</td>\n",
       "            </tr>\n",
       "            <tr>\n",
       "                        <th id=\"T_4f055018_aef8_11ea_88d6_00155d8cb8e6level0_row5\" class=\"row_heading level0 row5\" >recent_invoices</th>\n",
       "                        <td id=\"T_4f055018_aef8_11ea_88d6_00155d8cb8e6row5_col0\" class=\"data row5 col0\" >0.404959</td>\n",
       "                        <td id=\"T_4f055018_aef8_11ea_88d6_00155d8cb8e6row5_col1\" class=\"data row5 col1\" >0.545932</td>\n",
       "                        <td id=\"T_4f055018_aef8_11ea_88d6_00155d8cb8e6row5_col2\" class=\"data row5 col2\" >0.640910</td>\n",
       "                        <td id=\"T_4f055018_aef8_11ea_88d6_00155d8cb8e6row5_col3\" class=\"data row5 col3\" >0.377575</td>\n",
       "                        <td id=\"T_4f055018_aef8_11ea_88d6_00155d8cb8e6row5_col4\" class=\"data row5 col4\" >-0.042110</td>\n",
       "                        <td id=\"T_4f055018_aef8_11ea_88d6_00155d8cb8e6row5_col5\" class=\"data row5 col5\" >1.000000</td>\n",
       "                        <td id=\"T_4f055018_aef8_11ea_88d6_00155d8cb8e6row5_col6\" class=\"data row5 col6\" >0.910733</td>\n",
       "                        <td id=\"T_4f055018_aef8_11ea_88d6_00155d8cb8e6row5_col7\" class=\"data row5 col7\" >0.570238</td>\n",
       "            </tr>\n",
       "            <tr>\n",
       "                        <th id=\"T_4f055018_aef8_11ea_88d6_00155d8cb8e6level0_row6\" class=\"row_heading level0 row6\" >recent_views</th>\n",
       "                        <td id=\"T_4f055018_aef8_11ea_88d6_00155d8cb8e6row6_col0\" class=\"data row6 col0\" >0.505290</td>\n",
       "                        <td id=\"T_4f055018_aef8_11ea_88d6_00155d8cb8e6row6_col1\" class=\"data row6 col1\" >0.688107</td>\n",
       "                        <td id=\"T_4f055018_aef8_11ea_88d6_00155d8cb8e6row6_col2\" class=\"data row6 col2\" >0.846793</td>\n",
       "                        <td id=\"T_4f055018_aef8_11ea_88d6_00155d8cb8e6row6_col3\" class=\"data row6 col3\" >0.602048</td>\n",
       "                        <td id=\"T_4f055018_aef8_11ea_88d6_00155d8cb8e6row6_col4\" class=\"data row6 col4\" >0.120163</td>\n",
       "                        <td id=\"T_4f055018_aef8_11ea_88d6_00155d8cb8e6row6_col5\" class=\"data row6 col5\" >0.910733</td>\n",
       "                        <td id=\"T_4f055018_aef8_11ea_88d6_00155d8cb8e6row6_col6\" class=\"data row6 col6\" >1.000000</td>\n",
       "                        <td id=\"T_4f055018_aef8_11ea_88d6_00155d8cb8e6row6_col7\" class=\"data row6 col7\" >0.491414</td>\n",
       "            </tr>\n",
       "            <tr>\n",
       "                        <th id=\"T_4f055018_aef8_11ea_88d6_00155d8cb8e6level0_row7\" class=\"row_heading level0 row7\" >y</th>\n",
       "                        <td id=\"T_4f055018_aef8_11ea_88d6_00155d8cb8e6row7_col0\" class=\"data row7 col0\" >0.182032</td>\n",
       "                        <td id=\"T_4f055018_aef8_11ea_88d6_00155d8cb8e6row7_col1\" class=\"data row7 col1\" >0.158251</td>\n",
       "                        <td id=\"T_4f055018_aef8_11ea_88d6_00155d8cb8e6row7_col2\" class=\"data row7 col2\" >0.145133</td>\n",
       "                        <td id=\"T_4f055018_aef8_11ea_88d6_00155d8cb8e6row7_col3\" class=\"data row7 col3\" >0.188104</td>\n",
       "                        <td id=\"T_4f055018_aef8_11ea_88d6_00155d8cb8e6row7_col4\" class=\"data row7 col4\" >0.152978</td>\n",
       "                        <td id=\"T_4f055018_aef8_11ea_88d6_00155d8cb8e6row7_col5\" class=\"data row7 col5\" >0.570238</td>\n",
       "                        <td id=\"T_4f055018_aef8_11ea_88d6_00155d8cb8e6row7_col6\" class=\"data row7 col6\" >0.491414</td>\n",
       "                        <td id=\"T_4f055018_aef8_11ea_88d6_00155d8cb8e6row7_col7\" class=\"data row7 col7\" >1.000000</td>\n",
       "            </tr>\n",
       "    </tbody></table>"
      ],
      "text/plain": [
       "<pandas.io.formats.style.Styler at 0x2098cc164c8>"
      ]
     },
     "execution_count": 14,
     "metadata": {},
     "output_type": "execute_result"
    }
   ],
   "source": [
    "df_ts.corr().style.background_gradient().set_caption('Heat map')"
   ]
  },
  {
   "cell_type": "markdown",
   "metadata": {},
   "source": [
    "Then, several popular regression models are trained on the UK dataset and compared using `model_compare()`. The pipeline featuring liner regression with elastic net serves as a base model. Random forest (`rf`) pipeline proves to be the best performing, with lowest RMSE on test set, but takes the longest time to train, due to the ensemble nature of the model. Gradient boosted tree (`gbt`) pipeline comes in second in RMSE, and takes less time to train per fit than random forest, but due to the amount of tunable paramters, the training time can be much higher in total if we choose to do a more thorough grid serach.\n",
    "\n",
    "We choose random forest for the next section"
   ]
  },
  {
   "cell_type": "code",
   "execution_count": 3,
   "metadata": {},
   "outputs": [
    {
     "name": "stdout",
     "output_type": "stream",
     "text": [
      "Ingesting data\n",
      "Training scaler->lr\n",
      "Training scaler->sgd\n",
      "Training scaler->svr\n",
      "Training scaler->rf\n",
      "Training scaler->gbt\n",
      "Training finished! Total training time 57s\n"
     ]
    }
   ],
   "source": [
    "from model import model_compare\n",
    "model_compare_df = model_compare(data_dir,country = 'United Kingdom')"
   ]
  },
  {
   "cell_type": "code",
   "execution_count": 4,
   "metadata": {},
   "outputs": [
    {
     "data": {
      "text/html": [
       "<style  type=\"text/css\" >\n",
       "    #T_1686dd76_af04_11ea_87b7_00155d8cb8e6row0_col1 {\n",
       "            width:  10em;\n",
       "             height:  80%;\n",
       "            background:  linear-gradient(90deg, transparent 50.0%, lightblue 50.0%, lightblue 99.3%, transparent 99.3%);\n",
       "        }    #T_1686dd76_af04_11ea_87b7_00155d8cb8e6row0_col2 {\n",
       "            width:  10em;\n",
       "             height:  80%;\n",
       "            background:  linear-gradient(90deg, transparent 50.0%, lightblue 50.0%, lightblue 53.6%, transparent 53.6%);\n",
       "        }    #T_1686dd76_af04_11ea_87b7_00155d8cb8e6row0_col3 {\n",
       "            width:  10em;\n",
       "             height:  80%;\n",
       "            background:  linear-gradient(90deg, transparent 50.0%, lightblue 50.0%, lightblue 82.7%, transparent 82.7%);\n",
       "        }    #T_1686dd76_af04_11ea_87b7_00155d8cb8e6row1_col1 {\n",
       "            width:  10em;\n",
       "             height:  80%;\n",
       "            background:  linear-gradient(90deg, transparent 50.0%, lightblue 50.0%, lightblue 100.0%, transparent 100.0%);\n",
       "        }    #T_1686dd76_af04_11ea_87b7_00155d8cb8e6row1_col2 {\n",
       "            width:  10em;\n",
       "             height:  80%;\n",
       "            background:  linear-gradient(90deg, transparent 50.0%, lightblue 50.0%, lightblue 54.4%, transparent 54.4%);\n",
       "        }    #T_1686dd76_af04_11ea_87b7_00155d8cb8e6row1_col3 {\n",
       "            width:  10em;\n",
       "             height:  80%;\n",
       "            background:  linear-gradient(90deg, transparent 50.0%, lightblue 50.0%, lightblue 54.0%, transparent 54.0%);\n",
       "        }    #T_1686dd76_af04_11ea_87b7_00155d8cb8e6row2_col1 {\n",
       "            width:  10em;\n",
       "             height:  80%;\n",
       "            background:  linear-gradient(90deg, transparent 50.0%, lightblue 50.0%, lightblue 93.7%, transparent 93.7%);\n",
       "        }    #T_1686dd76_af04_11ea_87b7_00155d8cb8e6row2_col2 {\n",
       "            width:  10em;\n",
       "             height:  80%;\n",
       "            background:  linear-gradient(90deg, transparent 50.0%, lightblue 50.0%, lightblue 51.6%, transparent 51.6%);\n",
       "        }    #T_1686dd76_af04_11ea_87b7_00155d8cb8e6row2_col3 {\n",
       "            width:  10em;\n",
       "             height:  80%;\n",
       "            background:  linear-gradient(90deg, transparent 50.0%, lightblue 50.0%, lightblue 54.5%, transparent 54.5%);\n",
       "        }    #T_1686dd76_af04_11ea_87b7_00155d8cb8e6row3_col1 {\n",
       "            width:  10em;\n",
       "             height:  80%;\n",
       "            background:  linear-gradient(90deg, transparent 50.0%, lightblue 50.0%, lightblue 68.4%, transparent 68.4%);\n",
       "        }    #T_1686dd76_af04_11ea_87b7_00155d8cb8e6row3_col2 {\n",
       "            width:  10em;\n",
       "             height:  80%;\n",
       "            background:  linear-gradient(90deg, transparent 50.0%, lightblue 50.0%, lightblue 64.1%, transparent 64.1%);\n",
       "        }    #T_1686dd76_af04_11ea_87b7_00155d8cb8e6row3_col3 {\n",
       "            width:  10em;\n",
       "             height:  80%;\n",
       "            background:  linear-gradient(90deg, transparent 50.0%, lightblue 50.0%, lightblue 100.0%, transparent 100.0%);\n",
       "        }    #T_1686dd76_af04_11ea_87b7_00155d8cb8e6row4_col1 {\n",
       "            width:  10em;\n",
       "             height:  80%;\n",
       "            background:  linear-gradient(90deg, transparent 50.0%, lightblue 50.0%, lightblue 72.1%, transparent 72.1%);\n",
       "        }    #T_1686dd76_af04_11ea_87b7_00155d8cb8e6row4_col2 {\n",
       "            width:  10em;\n",
       "             height:  80%;\n",
       "            background:  linear-gradient(90deg, transparent 50.0%, lightblue 50.0%, lightblue 100.0%, transparent 100.0%);\n",
       "        }    #T_1686dd76_af04_11ea_87b7_00155d8cb8e6row4_col3 {\n",
       "            width:  10em;\n",
       "             height:  80%;\n",
       "            background:  linear-gradient(90deg, transparent 50.0%, lightblue 50.0%, lightblue 85.5%, transparent 85.5%);\n",
       "        }</style><table id=\"T_1686dd76_af04_11ea_87b7_00155d8cb8e6\" ><caption>Model comparison</caption><thead>    <tr>        <th class=\"blank level0\" ></th>        <th class=\"col_heading level0 col0\" >pipeline</th>        <th class=\"col_heading level0 col1\" >test_rmse</th>        <th class=\"col_heading level0 col2\" >total_time</th>        <th class=\"col_heading level0 col3\" >avg_time</th>        <th class=\"col_heading level0 col4\" >best_params</th>    </tr></thead><tbody>\n",
       "                <tr>\n",
       "                        <th id=\"T_1686dd76_af04_11ea_87b7_00155d8cb8e6level0_row0\" class=\"row_heading level0 row0\" >0</th>\n",
       "                        <td id=\"T_1686dd76_af04_11ea_87b7_00155d8cb8e6row0_col0\" class=\"data row0 col0\" >scaler->lr</td>\n",
       "                        <td id=\"T_1686dd76_af04_11ea_87b7_00155d8cb8e6row0_col1\" class=\"data row0 col1\" >52949.785299</td>\n",
       "                        <td id=\"T_1686dd76_af04_11ea_87b7_00155d8cb8e6row0_col2\" class=\"data row0 col2\" >2.762000</td>\n",
       "                        <td id=\"T_1686dd76_af04_11ea_87b7_00155d8cb8e6row0_col3\" class=\"data row0 col3\" >0.110480</td>\n",
       "                        <td id=\"T_1686dd76_af04_11ea_87b7_00155d8cb8e6row0_col4\" class=\"data row0 col4\" >{'lr__alpha': 0.005623413251903491, 'lr__l1_ratio': 0.5, 'lr__max_iter': 10000}</td>\n",
       "            </tr>\n",
       "            <tr>\n",
       "                        <th id=\"T_1686dd76_af04_11ea_87b7_00155d8cb8e6level0_row1\" class=\"row_heading level0 row1\" >1</th>\n",
       "                        <td id=\"T_1686dd76_af04_11ea_87b7_00155d8cb8e6row1_col0\" class=\"data row1 col0\" >scaler->sgd</td>\n",
       "                        <td id=\"T_1686dd76_af04_11ea_87b7_00155d8cb8e6row1_col1\" class=\"data row1 col1\" >53733.867326</td>\n",
       "                        <td id=\"T_1686dd76_af04_11ea_87b7_00155d8cb8e6row1_col2\" class=\"data row1 col2\" >3.350491</td>\n",
       "                        <td id=\"T_1686dd76_af04_11ea_87b7_00155d8cb8e6row1_col3\" class=\"data row1 col3\" >0.013402</td>\n",
       "                        <td id=\"T_1686dd76_af04_11ea_87b7_00155d8cb8e6row1_col4\" class=\"data row1 col4\" >{'sgd__alpha': 0.0001, 'sgd__l1_ratio': 0.0, 'sgd__learning_rate': 'invscaling', 'sgd__max_iter': 200, 'sgd__penalty': 'elasticnet'}</td>\n",
       "            </tr>\n",
       "            <tr>\n",
       "                        <th id=\"T_1686dd76_af04_11ea_87b7_00155d8cb8e6level0_row2\" class=\"row_heading level0 row2\" >2</th>\n",
       "                        <td id=\"T_1686dd76_af04_11ea_87b7_00155d8cb8e6row2_col0\" class=\"data row2 col0\" >scaler->svr</td>\n",
       "                        <td id=\"T_1686dd76_af04_11ea_87b7_00155d8cb8e6row2_col1\" class=\"data row2 col1\" >46926.593599</td>\n",
       "                        <td id=\"T_1686dd76_af04_11ea_87b7_00155d8cb8e6row2_col2\" class=\"data row2 col2\" >1.230000</td>\n",
       "                        <td id=\"T_1686dd76_af04_11ea_87b7_00155d8cb8e6row2_col3\" class=\"data row2 col3\" >0.015375</td>\n",
       "                        <td id=\"T_1686dd76_af04_11ea_87b7_00155d8cb8e6row2_col4\" class=\"data row2 col4\" >{'svr__C': 100.0, 'svr__gamma': 1.0, 'svr__kernel': 'poly'}</td>\n",
       "            </tr>\n",
       "            <tr>\n",
       "                        <th id=\"T_1686dd76_af04_11ea_87b7_00155d8cb8e6level0_row3\" class=\"row_heading level0 row3\" >3</th>\n",
       "                        <td id=\"T_1686dd76_af04_11ea_87b7_00155d8cb8e6row3_col0\" class=\"data row3 col0\" >scaler->rf</td>\n",
       "                        <td id=\"T_1686dd76_af04_11ea_87b7_00155d8cb8e6row3_col1\" class=\"data row3 col1\" >19744.673636</td>\n",
       "                        <td id=\"T_1686dd76_af04_11ea_87b7_00155d8cb8e6row3_col2\" class=\"data row3 col2\" >10.818748</td>\n",
       "                        <td id=\"T_1686dd76_af04_11ea_87b7_00155d8cb8e6row3_col3\" class=\"data row3 col3\" >0.169043</td>\n",
       "                        <td id=\"T_1686dd76_af04_11ea_87b7_00155d8cb8e6row3_col4\" class=\"data row3 col4\" >{'rf__max_depth': 9, 'rf__min_samples_split': 4, 'rf__n_estimators': 25}</td>\n",
       "            </tr>\n",
       "            <tr>\n",
       "                        <th id=\"T_1686dd76_af04_11ea_87b7_00155d8cb8e6level0_row4\" class=\"row_heading level0 row4\" >4</th>\n",
       "                        <td id=\"T_1686dd76_af04_11ea_87b7_00155d8cb8e6row4_col0\" class=\"data row4 col0\" >scaler->gbt</td>\n",
       "                        <td id=\"T_1686dd76_af04_11ea_87b7_00155d8cb8e6row4_col1\" class=\"data row4 col1\" >23782.773889</td>\n",
       "                        <td id=\"T_1686dd76_af04_11ea_87b7_00155d8cb8e6row4_col2\" class=\"data row4 col2\" >38.423687</td>\n",
       "                        <td id=\"T_1686dd76_af04_11ea_87b7_00155d8cb8e6row4_col3\" class=\"data row4 col3\" >0.120074</td>\n",
       "                        <td id=\"T_1686dd76_af04_11ea_87b7_00155d8cb8e6row4_col4\" class=\"data row4 col4\" >{'gbt__learning_rate': 0.03162277660168379, 'gbt__max_depth': 6, 'gbt__min_samples_split': 8, 'gbt__n_estimators': 100}</td>\n",
       "            </tr>\n",
       "    </tbody></table>"
      ],
      "text/plain": [
       "<pandas.io.formats.style.Styler at 0x2649cfc4a48>"
      ]
     },
     "execution_count": 4,
     "metadata": {},
     "output_type": "execute_result"
    }
   ],
   "source": [
    "model_compare_df\\\n",
    "    .style\\\n",
    "    .bar(color='lightblue', subset=['test_rmse'], align='zero')\\\n",
    "    .bar(color='lightblue', subset=['total_time'], align='zero')\\\n",
    "    .bar(color='lightblue', subset=['avg_time'], align='zero')\\\n",
    "    .set_caption('Model comparison')"
   ]
  },
  {
   "cell_type": "markdown",
   "metadata": {},
   "source": [
    "Random forest models are built for each market and housed in a flask app. Models for each market are then trained using `model_train()`. The whole pipeline will automattically ingest all raw data in `data_dir`, engineer features, train the model, and save trained model & log. "
   ]
  },
  {
   "cell_type": "code",
   "execution_count": 5,
   "metadata": {},
   "outputs": [
    {
     "name": "stdout",
     "output_type": "stream",
     "text": [
      "... loading ts data from files\n",
      "... start training\n",
      "... saving model: models\\sl-all-0_1.joblib\n",
      "... saving model: models\\sl-eire-0_1.joblib\n",
      "... saving model: models\\sl-france-0_1.joblib\n",
      "... saving model: models\\sl-germany-0_1.joblib\n",
      "... saving model: models\\sl-hong_kong-0_1.joblib\n",
      "... saving model: models\\sl-netherlands-0_1.joblib\n",
      "... saving model: models\\sl-norway-0_1.joblib\n",
      "... saving model: models\\sl-portugal-0_1.joblib\n",
      "... saving model: models\\sl-singapore-0_1.joblib\n",
      "... saving model: models\\sl-spain-0_1.joblib\n",
      "... saving model: models\\sl-united_kingdom-0_1.joblib\n"
     ]
    }
   ],
   "source": [
    "from model import model_train, model_load, model_predict\n",
    "# train the models & load all data & models in the memory\n",
    "model_train(data_dir)"
   ]
  },
  {
   "cell_type": "markdown",
   "metadata": {},
   "source": [
    "Next we will unit test the model and API with the `run-tests.py` script, and shows an example how to use the API."
   ]
  },
  {
   "cell_type": "code",
   "execution_count": 6,
   "metadata": {},
   "outputs": [
    {
     "name": "stdout",
     "output_type": "stream",
     "text": [
      "... test flag on"
     ]
    },
    {
     "name": "stderr",
     "output_type": "stream",
     "text": [
      "...........\n",
      "----------------------------------------------------------------------\n",
      "Ran 11 tests in 124.429s\n",
      "\n",
      "OK\n"
     ]
    },
    {
     "name": "stdout",
     "output_type": "stream",
     "text": [
      "\n",
      "... subseting data\n",
      "... subseting countries\n",
      "... loading ts data from files\n",
      "... start training\n",
      "... saving test version of model: models\\test-united_kingdom-0_1.joblib\n",
      "... loading ts data from files\n",
      "... loading ts data from files\n",
      "2018-01-05\n"
     ]
    }
   ],
   "source": [
    "# start the flask app\n",
    "# !python app.py\n",
    "# run all unit tests\n",
    "!python run-tests.py"
   ]
  },
  {
   "cell_type": "code",
   "execution_count": 7,
   "metadata": {},
   "outputs": [
    {
     "name": "stdout",
     "output_type": "stream",
     "text": [
      "[178528.60817502515]\n"
     ]
    }
   ],
   "source": [
    "import requests\n",
    "from ast import literal_eval\n",
    "\n",
    "port = 8080\n",
    "# Predict API example\n",
    "query_data = ('all','2018','01','05')\n",
    "request_json = {'query':query_data,'type':'dict','mode':'test'}\n",
    "r = requests.post(f'http://127.0.0.1:{port}/predict',json=request_json)\n",
    "print(literal_eval(r.text))"
   ]
  },
  {
   "cell_type": "code",
   "execution_count": 8,
   "metadata": {},
   "outputs": [
    {
     "name": "stdout",
     "output_type": "stream",
     "text": [
      "true\n",
      "\n"
     ]
    }
   ],
   "source": [
    "# Train API example\n",
    "request_json = {'query':data_dir,'type':'dict','mode':'test'}\n",
    "r = requests.post(f'http://127.0.0.1:{port}/train',json=request_json)\n",
    "print(r.text)"
   ]
  },
  {
   "cell_type": "code",
   "execution_count": 15,
   "metadata": {
    "scrolled": true
   },
   "outputs": [
    {
     "name": "stdout",
     "output_type": "stream",
     "text": [
      "unique_id,timestamp,dt_range,eval_test,model_version,model_note,runtime\r",
      "\r\n",
      "a6a28d17-f22d-4825-8575-8221f30cf4c4,1592224525,\"('2017-12-02', '2019-05-24')\",{'rmse': 28228.0},0.1,supervised learing model for time-series,000:00:06\r",
      "\r\n",
      "cccf145c-4149-4df3-b243-ddf9732279ff,1592224578,\"('2017-12-01', '2019-05-27')\",{'rmse': 34252.0},0.1,supervised learing model for time-series,000:00:23\r",
      "\r\n",
      "4031ba50-dfae-4816-8e85-d8cbea0abd15,1592224678,\"('2017-12-02', '2019-05-30')\",{'rmse': 36819.0},0.1,supervised learing model for time-series,000:00:04\r",
      "\r\n",
      "\n"
     ]
    }
   ],
   "source": [
    "# Logging API example\n",
    "file_name = 'united_kingdom-train-test.log'\n",
    "r = requests.get(f'http://127.0.0.1:{port}/logs/{file_name}')\n",
    "print(r.text)"
   ]
  },
  {
   "cell_type": "code",
   "execution_count": 10,
   "metadata": {},
   "outputs": [
    {
     "name": "stdout",
     "output_type": "stream",
     "text": [
      "... loading ts data from files\n",
      "Pickle file saved.\n"
     ]
    }
   ],
   "source": [
    "# the save_pickle flag allows to save all data and models in a pickele file to speed up loading\n",
    "all_data, all_models = model_load(save_pickle=True)"
   ]
  },
  {
   "cell_type": "markdown",
   "metadata": {},
   "source": [
    "We will randomly make some predictions and check out the log"
   ]
  },
  {
   "cell_type": "code",
   "execution_count": 12,
   "metadata": {},
   "outputs": [],
   "source": [
    "import random\n",
    "from model import model_predict"
   ]
  },
  {
   "cell_type": "code",
   "execution_count": 104,
   "metadata": {},
   "outputs": [
    {
     "name": "stdout",
     "output_type": "stream",
     "text": [
      "2019-04-01\n",
      "2018-12-21\n",
      "2018-07-17\n",
      "2018-02-06\n",
      "2019-02-19\n",
      "2018-10-14\n",
      "2018-06-20\n",
      "2019-01-27\n",
      "2019-03-18\n",
      "2018-09-16\n"
     ]
    }
   ],
   "source": [
    "for i in range(10):\n",
    "    country = random.choice(['all','eire','united_kingdom'])\n",
    "    start_dt = str(all_data[country]['dates'][0])\n",
    "    end_dt = str(all_data[country]['dates'][-1])\n",
    "    dt_range = pd.date_range(start_dt,end_dt,freq='1D')\n",
    "    date = random.choice(dt_range)\n",
    "    model_predict(country,str(date.year),str(date.month),str(date.day),all_models=None,test=False,from_pickle=True)"
   ]
  },
  {
   "cell_type": "code",
   "execution_count": 173,
   "metadata": {},
   "outputs": [],
   "source": [
    "log_file = os.path.join('logs','predict-2020-6.log')\n",
    "with open(log_file) as f:\n",
    "    log = f.read()\n",
    "log_ = log.replace('\\n\\n','\\t').split('\\t')\n",
    "log_df = pd.DataFrame(columns=log_[0].split(','))\n",
    "for i in range(0,len(log_)-2):\n",
    "    log_df.loc[i] =  log_[i+1].split(',')"
   ]
  },
  {
   "cell_type": "code",
   "execution_count": 175,
   "metadata": {},
   "outputs": [
    {
     "data": {
      "text/html": [
       "<div>\n",
       "<style scoped>\n",
       "    .dataframe tbody tr th:only-of-type {\n",
       "        vertical-align: middle;\n",
       "    }\n",
       "\n",
       "    .dataframe tbody tr th {\n",
       "        vertical-align: top;\n",
       "    }\n",
       "\n",
       "    .dataframe thead th {\n",
       "        text-align: right;\n",
       "    }\n",
       "</style>\n",
       "<table border=\"1\" class=\"dataframe\">\n",
       "  <thead>\n",
       "    <tr style=\"text-align: right;\">\n",
       "      <th></th>\n",
       "      <th>unique_id</th>\n",
       "      <th>timestamp</th>\n",
       "      <th>y_pred</th>\n",
       "      <th>y_proba</th>\n",
       "      <th>country</th>\n",
       "      <th>target_date</th>\n",
       "      <th>model_version</th>\n",
       "      <th>runtime</th>\n",
       "    </tr>\n",
       "  </thead>\n",
       "  <tbody>\n",
       "    <tr>\n",
       "      <th>8</th>\n",
       "      <td>3d61bdac-5cc7-435c-8a21-be769f9943c0</td>\n",
       "      <td>1592232685</td>\n",
       "      <td>[203764.31676448]</td>\n",
       "      <td>None</td>\n",
       "      <td>united_kingdom</td>\n",
       "      <td>2018-10-14</td>\n",
       "      <td>0.2</td>\n",
       "      <td>000:00:00</td>\n",
       "    </tr>\n",
       "    <tr>\n",
       "      <th>9</th>\n",
       "      <td>6be5a910-72c7-442f-8c0f-43c415d586ee</td>\n",
       "      <td>1592232685</td>\n",
       "      <td>[4049.91950788]</td>\n",
       "      <td>None</td>\n",
       "      <td>eire</td>\n",
       "      <td>2018-06-20</td>\n",
       "      <td>0.2</td>\n",
       "      <td>000:00:00</td>\n",
       "    </tr>\n",
       "    <tr>\n",
       "      <th>10</th>\n",
       "      <td>c9ecc48d-6565-480c-9fde-f30740103780</td>\n",
       "      <td>1592232685</td>\n",
       "      <td>[123466.00730507]</td>\n",
       "      <td>None</td>\n",
       "      <td>united_kingdom</td>\n",
       "      <td>2019-01-27</td>\n",
       "      <td>0.2</td>\n",
       "      <td>000:00:00</td>\n",
       "    </tr>\n",
       "    <tr>\n",
       "      <th>11</th>\n",
       "      <td>ad852da5-5849-44d9-b426-f4db64a86095</td>\n",
       "      <td>1592232685</td>\n",
       "      <td>[1872.05504214]</td>\n",
       "      <td>None</td>\n",
       "      <td>eire</td>\n",
       "      <td>2019-03-18</td>\n",
       "      <td>0.2</td>\n",
       "      <td>000:00:00</td>\n",
       "    </tr>\n",
       "    <tr>\n",
       "      <th>12</th>\n",
       "      <td>3f3d3eab-5643-4bcd-8d20-03ec09e96ceb</td>\n",
       "      <td>1592232685</td>\n",
       "      <td>[242734.15912834]</td>\n",
       "      <td>None</td>\n",
       "      <td>united_kingdom</td>\n",
       "      <td>2018-09-16</td>\n",
       "      <td>0.2</td>\n",
       "      <td>000:00:00</td>\n",
       "    </tr>\n",
       "  </tbody>\n",
       "</table>\n",
       "</div>"
      ],
      "text/plain": [
       "                               unique_id   timestamp             y_pred  \\\n",
       "8   3d61bdac-5cc7-435c-8a21-be769f9943c0  1592232685  [203764.31676448]   \n",
       "9   6be5a910-72c7-442f-8c0f-43c415d586ee  1592232685    [4049.91950788]   \n",
       "10  c9ecc48d-6565-480c-9fde-f30740103780  1592232685  [123466.00730507]   \n",
       "11  ad852da5-5849-44d9-b426-f4db64a86095  1592232685    [1872.05504214]   \n",
       "12  3f3d3eab-5643-4bcd-8d20-03ec09e96ceb  1592232685  [242734.15912834]   \n",
       "\n",
       "   y_proba         country target_date model_version    runtime  \n",
       "8     None  united_kingdom  2018-10-14           0.2  000:00:00  \n",
       "9     None            eire  2018-06-20           0.2  000:00:00  \n",
       "10    None  united_kingdom  2019-01-27           0.2  000:00:00  \n",
       "11    None            eire  2019-03-18           0.2  000:00:00  \n",
       "12    None  united_kingdom  2018-09-16           0.2  000:00:00  "
      ]
     },
     "execution_count": 175,
     "metadata": {},
     "output_type": "execute_result"
    }
   ],
   "source": [
    "log_df.tail(5)"
   ]
  },
  {
   "cell_type": "markdown",
   "metadata": {},
   "source": [
    "Here, we have a quick look at the random forest's built-in feature importance to have a better understand how to model performs."
   ]
  },
  {
   "cell_type": "code",
   "execution_count": 24,
   "metadata": {},
   "outputs": [
    {
     "data": {
      "text/html": [
       "<style  type=\"text/css\" >\n",
       "    #T_5b85055c_af29_11ea_8f52_00155dc57d32row0_col1 {\n",
       "            width:  10em;\n",
       "             height:  80%;\n",
       "            background:  linear-gradient(90deg, transparent 50.0%, lightblue 50.0%, lightblue 100.0%, transparent 100.0%);\n",
       "        }    #T_5b85055c_af29_11ea_8f52_00155dc57d32row1_col1 {\n",
       "            width:  10em;\n",
       "             height:  80%;\n",
       "            background:  linear-gradient(90deg, transparent 50.0%, lightblue 50.0%, lightblue 68.0%, transparent 68.0%);\n",
       "        }    #T_5b85055c_af29_11ea_8f52_00155dc57d32row2_col1 {\n",
       "            width:  10em;\n",
       "             height:  80%;\n",
       "            background:  linear-gradient(90deg, transparent 50.0%, lightblue 50.0%, lightblue 60.2%, transparent 60.2%);\n",
       "        }    #T_5b85055c_af29_11ea_8f52_00155dc57d32row3_col1 {\n",
       "            width:  10em;\n",
       "             height:  80%;\n",
       "            background:  linear-gradient(90deg, transparent 50.0%, lightblue 50.0%, lightblue 57.3%, transparent 57.3%);\n",
       "        }    #T_5b85055c_af29_11ea_8f52_00155dc57d32row4_col1 {\n",
       "            width:  10em;\n",
       "             height:  80%;\n",
       "            background:  linear-gradient(90deg, transparent 50.0%, lightblue 50.0%, lightblue 56.4%, transparent 56.4%);\n",
       "        }    #T_5b85055c_af29_11ea_8f52_00155dc57d32row5_col1 {\n",
       "            width:  10em;\n",
       "             height:  80%;\n",
       "            background:  linear-gradient(90deg, transparent 50.0%, lightblue 50.0%, lightblue 54.1%, transparent 54.1%);\n",
       "        }    #T_5b85055c_af29_11ea_8f52_00155dc57d32row6_col1 {\n",
       "            width:  10em;\n",
       "             height:  80%;\n",
       "            background:  linear-gradient(90deg, transparent 50.0%, lightblue 50.0%, lightblue 51.6%, transparent 51.6%);\n",
       "        }</style><table id=\"T_5b85055c_af29_11ea_8f52_00155dc57d32\" ><thead>    <tr>        <th class=\"blank level0\" ></th>        <th class=\"col_heading level0 col0\" >feature</th>        <th class=\"col_heading level0 col1\" >importance</th>    </tr></thead><tbody>\n",
       "                <tr>\n",
       "                        <th id=\"T_5b85055c_af29_11ea_8f52_00155dc57d32level0_row0\" class=\"row_heading level0 row0\" >5</th>\n",
       "                        <td id=\"T_5b85055c_af29_11ea_8f52_00155dc57d32row0_col0\" class=\"data row0 col0\" >recent_invoices</td>\n",
       "                        <td id=\"T_5b85055c_af29_11ea_8f52_00155dc57d32row0_col1\" class=\"data row0 col1\" >0.512349</td>\n",
       "            </tr>\n",
       "            <tr>\n",
       "                        <th id=\"T_5b85055c_af29_11ea_8f52_00155dc57d32level0_row1\" class=\"row_heading level0 row1\" >3</th>\n",
       "                        <td id=\"T_5b85055c_af29_11ea_8f52_00155dc57d32row1_col0\" class=\"data row1 col0\" >previous_70</td>\n",
       "                        <td id=\"T_5b85055c_af29_11ea_8f52_00155dc57d32row1_col1\" class=\"data row1 col1\" >0.184020</td>\n",
       "            </tr>\n",
       "            <tr>\n",
       "                        <th id=\"T_5b85055c_af29_11ea_8f52_00155dc57d32level0_row2\" class=\"row_heading level0 row2\" >2</th>\n",
       "                        <td id=\"T_5b85055c_af29_11ea_8f52_00155dc57d32row2_col0\" class=\"data row2 col0\" >previous_28</td>\n",
       "                        <td id=\"T_5b85055c_af29_11ea_8f52_00155dc57d32row2_col1\" class=\"data row2 col1\" >0.104906</td>\n",
       "            </tr>\n",
       "            <tr>\n",
       "                        <th id=\"T_5b85055c_af29_11ea_8f52_00155dc57d32level0_row3\" class=\"row_heading level0 row3\" >1</th>\n",
       "                        <td id=\"T_5b85055c_af29_11ea_8f52_00155dc57d32row3_col0\" class=\"data row3 col0\" >previous_14</td>\n",
       "                        <td id=\"T_5b85055c_af29_11ea_8f52_00155dc57d32row3_col1\" class=\"data row3 col1\" >0.075084</td>\n",
       "            </tr>\n",
       "            <tr>\n",
       "                        <th id=\"T_5b85055c_af29_11ea_8f52_00155dc57d32level0_row4\" class=\"row_heading level0 row4\" >4</th>\n",
       "                        <td id=\"T_5b85055c_af29_11ea_8f52_00155dc57d32row4_col0\" class=\"data row4 col0\" >previous_year</td>\n",
       "                        <td id=\"T_5b85055c_af29_11ea_8f52_00155dc57d32row4_col1\" class=\"data row4 col1\" >0.065793</td>\n",
       "            </tr>\n",
       "            <tr>\n",
       "                        <th id=\"T_5b85055c_af29_11ea_8f52_00155dc57d32level0_row5\" class=\"row_heading level0 row5\" >6</th>\n",
       "                        <td id=\"T_5b85055c_af29_11ea_8f52_00155dc57d32row5_col0\" class=\"data row5 col0\" >recent_views</td>\n",
       "                        <td id=\"T_5b85055c_af29_11ea_8f52_00155dc57d32row5_col1\" class=\"data row5 col1\" >0.041848</td>\n",
       "            </tr>\n",
       "            <tr>\n",
       "                        <th id=\"T_5b85055c_af29_11ea_8f52_00155dc57d32level0_row6\" class=\"row_heading level0 row6\" >0</th>\n",
       "                        <td id=\"T_5b85055c_af29_11ea_8f52_00155dc57d32row6_col0\" class=\"data row6 col0\" >previous_7</td>\n",
       "                        <td id=\"T_5b85055c_af29_11ea_8f52_00155dc57d32row6_col1\" class=\"data row6 col1\" >0.015999</td>\n",
       "            </tr>\n",
       "    </tbody></table>"
      ],
      "text/plain": [
       "<pandas.io.formats.style.Styler at 0x2230174c088>"
      ]
     },
     "execution_count": 24,
     "metadata": {},
     "output_type": "execute_result"
    }
   ],
   "source": [
    "show_importance('all')"
   ]
  },
  {
   "cell_type": "markdown",
   "metadata": {},
   "source": [
    "Here is a plot that shows the actual revenue vs prediction for each market. Note the performance metric shown here is for the whole data set."
   ]
  },
  {
   "cell_type": "code",
   "execution_count": 25,
   "metadata": {},
   "outputs": [
    {
     "data": {
      "image/png": "[encoded data removed]",
      "text/plain": [
       "<Figure size 864x288 with 1 Axes>"
      ]
     },
     "metadata": {
      "needs_background": "light"
     },
     "output_type": "display_data"
    }
   ],
   "source": [
    "plot_ts('all')"
   ]
  },
  {
   "cell_type": "markdown",
   "metadata": {},
   "source": [
    "## Production\n",
    "The whole flask app is containerized in a Docker image. Let's try to make a prediction from docker through the API. "
   ]
  },
  {
   "cell_type": "code",
   "execution_count": 9,
   "metadata": {},
   "outputs": [],
   "source": [
    "# !docker run -p 5000:8080 revenue-forecast"
   ]
  },
  {
   "cell_type": "code",
   "execution_count": 16,
   "metadata": {},
   "outputs": [
    {
     "name": "stdout",
     "output_type": "stream",
     "text": [
      "[175338.53012702998]\n"
     ]
    }
   ],
   "source": [
    "port = 5000\n",
    "query_data = ('all','2018','01','05')\n",
    "request_json = {'query':query_data,'type':'dict','mode':'test'}\n",
    "r = requests.post(f'http://127.0.0.1:{port}/predict',json=request_json)\n",
    "print(literal_eval(r.text))"
   ]
  },
  {
   "cell_type": "markdown",
   "metadata": {},
   "source": [
    "To simulate production when new data comes in, we will move the new raw file to the training folder, re-train all the models, and have quick look at the model performance."
   ]
  },
  {
   "cell_type": "code",
   "execution_count": 20,
   "metadata": {},
   "outputs": [],
   "source": [
    "new_data_dir = os.path.join('data','cs-production')\n",
    "for file in glob.glob(os.path.join(new_data_dir,'*.json')):\n",
    "    shutil.copy(file, data_dir)\n",
    "# purge the ts-data file so ingestor can produce new ones\n",
    "try: shutil.rmtree(os.path.join('data','cs-train','ts-data'))\n",
    "except: pass"
   ]
  },
  {
   "cell_type": "code",
   "execution_count": 23,
   "metadata": {},
   "outputs": [],
   "source": [
    "from model import update_version\n",
    "update_version()"
   ]
  },
  {
   "cell_type": "code",
   "execution_count": 21,
   "metadata": {
    "scrolled": true
   },
   "outputs": [
    {
     "name": "stdout",
     "output_type": "stream",
     "text": [
      "... processing data for loading\n",
      "... start training\n",
      "... saving model: models\\sl-all-0_2.joblib\n",
      "... saving model: models\\sl-united_kingdom-0_2.joblib\n",
      "... saving model: models\\sl-eire-0_2.joblib\n",
      "... saving model: models\\sl-germany-0_2.joblib\n",
      "... saving model: models\\sl-france-0_2.joblib\n",
      "... saving model: models\\sl-norway-0_2.joblib\n",
      "... saving model: models\\sl-singapore-0_2.joblib\n",
      "... saving model: models\\sl-hong_kong-0_2.joblib\n",
      "... saving model: models\\sl-spain-0_2.joblib\n",
      "... saving model: models\\sl-portugal-0_2.joblib\n",
      "... saving model: models\\sl-netherlands-0_2.joblib\n"
     ]
    }
   ],
   "source": [
    "model_train(data_dir)"
   ]
  },
  {
   "cell_type": "code",
   "execution_count": 5,
   "metadata": {},
   "outputs": [
    {
     "name": "stdout",
     "output_type": "stream",
     "text": [
      "... loading ts data from files\n",
      "Pickle file saved.\n"
     ]
    }
   ],
   "source": [
    "from model import model_load\n",
    "all_data_new, all_models_new = model_load(save_pickle=True)"
   ]
  },
  {
   "cell_type": "code",
   "execution_count": 7,
   "metadata": {},
   "outputs": [
    {
     "data": {
      "image/png": "[encoded data removed]",
      "text/plain": [
       "<Figure size 864x288 with 1 Axes>"
      ]
     },
     "metadata": {
      "needs_background": "light"
     },
     "output_type": "display_data"
    }
   ],
   "source": [
    "plot_ts('all')"
   ]
  }
 ],
 "metadata": {
  "kernelspec": {
   "display_name": "Python 3",
   "language": "python",
   "name": "python3"
  },
  "language_info": {
   "codemirror_mode": {
    "name": "ipython",
    "version": 3
   },
   "file_extension": ".py",
   "mimetype": "text/x-python",
   "name": "python",
   "nbconvert_exporter": "python",
   "pygments_lexer": "ipython3",
   "version": "3.7.7"
  }
 },
 "nbformat": 4,
 "nbformat_minor": 4
}
